{
 "cells": [
  {
   "cell_type": "code",
   "execution_count": 1,
   "id": "6ab18566",
   "metadata": {},
   "outputs": [
    {
     "name": "stdout",
     "output_type": "stream",
     "text": [
      "Name: John\n",
      "City: New York\n",
      "Job: Engineer\n"
     ]
    }
   ],
   "source": [
    "#dictionary\n",
    "my_dict = {\n",
    "    'name': 'John',\n",
    "    'age': 25,\n",
    "    'city': 'New York',\n",
    "    'job': 'Engineer',\n",
    "    'hobby': 'Reading'\n",
    "}\n",
    "\n",
    "name_value = my_dict['name']  # Access by key\n",
    "city_value = my_dict['city']  # Access by key\n",
    "job_value = my_dict['job']    # Access by key\n",
    "\n",
    "print(\"Name:\", name_value)\n",
    "print(\"City:\", city_value)\n",
    "print(\"Job:\", job_value)\n"
   ]
  },
  {
   "cell_type": "code",
   "execution_count": 2,
   "id": "6e4399ef",
   "metadata": {},
   "outputs": [
    {
     "name": "stdout",
     "output_type": "stream",
     "text": [
      "Second element: banana\n",
      "Fourth element: date\n",
      "Second-to-last element: date\n"
     ]
    }
   ],
   "source": [
    "#tuple\n",
    "my_tuple = ('apple', 'banana', 'cherry', 'date', 'elderberry')\n",
    "\n",
    "second_element = my_tuple[1]  # Second element\n",
    "fourth_element = my_tuple[3]  # Fourth element\n",
    "negative_index_element = my_tuple[-2]  # Second-to-last element\n",
    "\n",
    "print(\"Second element:\", second_element)\n",
    "print(\"Fourth element:\", fourth_element)\n",
    "print(\"Second-to-last element:\", negative_index_element)\n"
   ]
  },
  {
   "cell_type": "code",
   "execution_count": 3,
   "id": "813a1fbb",
   "metadata": {},
   "outputs": [
    {
     "name": "stdout",
     "output_type": "stream",
     "text": [
      "First element: 10\n",
      "Third element: 30\n",
      "Last element: 50\n"
     ]
    }
   ],
   "source": [
    "#list\n",
    "my_list = [10, 20, 30, 40, 50]\n",
    "\n",
    "first_element = my_list[0]  # First element\n",
    "third_element = my_list[2]  # Third element\n",
    "last_element = my_list[-1]  # Last element\n",
    "\n",
    "print(\"First element:\", first_element)\n",
    "print(\"Third element:\", third_element)\n",
    "print(\"Last element:\", last_element)\n"
   ]
  },
  {
   "cell_type": "code",
   "execution_count": null,
   "id": "c4776bbb",
   "metadata": {},
   "outputs": [],
   "source": []
  }
 ],
 "metadata": {
  "kernelspec": {
   "display_name": "Python 3 (ipykernel)",
   "language": "python",
   "name": "python3"
  },
  "language_info": {
   "codemirror_mode": {
    "name": "ipython",
    "version": 3
   },
   "file_extension": ".py",
   "mimetype": "text/x-python",
   "name": "python",
   "nbconvert_exporter": "python",
   "pygments_lexer": "ipython3",
   "version": "3.11.5"
  }
 },
 "nbformat": 4,
 "nbformat_minor": 5
}
